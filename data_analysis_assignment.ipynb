{
 "cells": [
  {
   "cell_type": "code",
   "execution_count": 2,
   "id": "22aab37d",
   "metadata": {},
   "outputs": [],
   "source": [
    "import numpy as np\n",
    "import pandas as pd\n",
    "import seaborn as sns\n",
    "import matplotlib.pyplot as plt"
   ]
  },
  {
   "cell_type": "markdown",
   "id": "66b8faeb",
   "metadata": {},
   "source": [
    "## Loading the data"
   ]
  },
  {
   "cell_type": "code",
   "execution_count": 3,
   "id": "d0025154",
   "metadata": {},
   "outputs": [],
   "source": [
    "indus_client_df=pd.read_csv(r'C:\\Users\\HP\\Desktop\\Skygeni\\industry_client_details.csv')\n",
    "payments_df = pd.read_csv(r'C:\\Users\\HP\\Desktop\\Skygeni\\payment_information.csv')\n",
    "finance_df = pd.read_csv(r'C:\\Users\\HP\\Desktop\\Skygeni\\finanical_information.csv')\n",
    "sub_df=pd.read_csv(r'C:\\Users\\HP\\Desktop\\Skygeni\\subscription_information.csv')"
   ]
  },
  {
   "cell_type": "markdown",
   "id": "58303749",
   "metadata": {},
   "source": [
    "## DATA CLEANING AND PREPROCESSING"
   ]
  },
  {
   "cell_type": "markdown",
   "id": "a887430b",
   "metadata": {},
   "source": [
    "## Industry client information"
   ]
  },
  {
   "cell_type": "code",
   "execution_count": 4,
   "id": "d17963dd",
   "metadata": {},
   "outputs": [
    {
     "data": {
      "text/html": [
       "<div>\n",
       "<style scoped>\n",
       "    .dataframe tbody tr th:only-of-type {\n",
       "        vertical-align: middle;\n",
       "    }\n",
       "\n",
       "    .dataframe tbody tr th {\n",
       "        vertical-align: top;\n",
       "    }\n",
       "\n",
       "    .dataframe thead th {\n",
       "        text-align: right;\n",
       "    }\n",
       "</style>\n",
       "<table border=\"1\" class=\"dataframe\">\n",
       "  <thead>\n",
       "    <tr style=\"text-align: right;\">\n",
       "      <th></th>\n",
       "      <th>client_id</th>\n",
       "      <th>company_size</th>\n",
       "      <th>industry</th>\n",
       "      <th>location</th>\n",
       "    </tr>\n",
       "  </thead>\n",
       "  <tbody>\n",
       "    <tr>\n",
       "      <th>81</th>\n",
       "      <td>9329180414</td>\n",
       "      <td>Small</td>\n",
       "      <td>Block Chain</td>\n",
       "      <td>Banglore</td>\n",
       "    </tr>\n",
       "    <tr>\n",
       "      <th>99</th>\n",
       "      <td>6209923307</td>\n",
       "      <td>Medium</td>\n",
       "      <td>Gaming</td>\n",
       "      <td>Chennai</td>\n",
       "    </tr>\n",
       "    <tr>\n",
       "      <th>31</th>\n",
       "      <td>5481743788</td>\n",
       "      <td>Large</td>\n",
       "      <td>Block Chain</td>\n",
       "      <td>Banglore</td>\n",
       "    </tr>\n",
       "    <tr>\n",
       "      <th>87</th>\n",
       "      <td>7744303708</td>\n",
       "      <td>Medium</td>\n",
       "      <td>Gaming</td>\n",
       "      <td>New Delhi</td>\n",
       "    </tr>\n",
       "    <tr>\n",
       "      <th>47</th>\n",
       "      <td>7925430606</td>\n",
       "      <td>Large</td>\n",
       "      <td>Block Chain</td>\n",
       "      <td>New Delhi</td>\n",
       "    </tr>\n",
       "    <tr>\n",
       "      <th>46</th>\n",
       "      <td>2486393352</td>\n",
       "      <td>Large</td>\n",
       "      <td>Gaming</td>\n",
       "      <td>Chennai</td>\n",
       "    </tr>\n",
       "    <tr>\n",
       "      <th>36</th>\n",
       "      <td>6292156167</td>\n",
       "      <td>Small</td>\n",
       "      <td>Block Chain</td>\n",
       "      <td>Mumbai</td>\n",
       "    </tr>\n",
       "    <tr>\n",
       "      <th>53</th>\n",
       "      <td>8540187780</td>\n",
       "      <td>Large</td>\n",
       "      <td>Finance Lending</td>\n",
       "      <td>Hyderabad</td>\n",
       "    </tr>\n",
       "    <tr>\n",
       "      <th>79</th>\n",
       "      <td>2315920532</td>\n",
       "      <td>Small</td>\n",
       "      <td>Gaming</td>\n",
       "      <td>Chennai</td>\n",
       "    </tr>\n",
       "    <tr>\n",
       "      <th>24</th>\n",
       "      <td>8719792472</td>\n",
       "      <td>Medium</td>\n",
       "      <td>Hyper Local</td>\n",
       "      <td>Hyderabad</td>\n",
       "    </tr>\n",
       "  </tbody>\n",
       "</table>\n",
       "</div>"
      ],
      "text/plain": [
       "     client_id company_size         industry   location\n",
       "81  9329180414        Small      Block Chain   Banglore\n",
       "99  6209923307       Medium           Gaming    Chennai\n",
       "31  5481743788        Large      Block Chain   Banglore\n",
       "87  7744303708       Medium           Gaming  New Delhi\n",
       "47  7925430606        Large      Block Chain  New Delhi\n",
       "46  2486393352        Large           Gaming    Chennai\n",
       "36  6292156167        Small      Block Chain     Mumbai\n",
       "53  8540187780        Large  Finance Lending  Hyderabad\n",
       "79  2315920532        Small           Gaming    Chennai\n",
       "24  8719792472       Medium      Hyper Local  Hyderabad"
      ]
     },
     "execution_count": 4,
     "metadata": {},
     "output_type": "execute_result"
    }
   ],
   "source": [
    "indus_client_df.sample(10)"
   ]
  },
  {
   "cell_type": "code",
   "execution_count": 5,
   "id": "920e0d5f",
   "metadata": {},
   "outputs": [
    {
     "data": {
      "text/plain": [
       "(100, 4)"
      ]
     },
     "execution_count": 5,
     "metadata": {},
     "output_type": "execute_result"
    }
   ],
   "source": [
    "indus_client_df.shape"
   ]
  },
  {
   "cell_type": "code",
   "execution_count": 6,
   "id": "30be5232",
   "metadata": {},
   "outputs": [
    {
     "name": "stdout",
     "output_type": "stream",
     "text": [
      "<class 'pandas.core.frame.DataFrame'>\n",
      "RangeIndex: 100 entries, 0 to 99\n",
      "Data columns (total 4 columns):\n",
      " #   Column        Non-Null Count  Dtype \n",
      "---  ------        --------------  ----- \n",
      " 0   client_id     100 non-null    int64 \n",
      " 1   company_size  100 non-null    object\n",
      " 2   industry      100 non-null    object\n",
      " 3   location      100 non-null    object\n",
      "dtypes: int64(1), object(3)\n",
      "memory usage: 3.2+ KB\n"
     ]
    }
   ],
   "source": [
    "indus_client_df.info() #no null values and data types are also proper"
   ]
  },
  {
   "cell_type": "code",
   "execution_count": 7,
   "id": "1b87ec24",
   "metadata": {},
   "outputs": [
    {
     "data": {
      "text/plain": [
       "100"
      ]
     },
     "metadata": {},
     "output_type": "display_data"
    },
    {
     "data": {
      "text/plain": [
       "company_size\n",
       "Small     39\n",
       "Medium    32\n",
       "Large     29\n",
       "Name: count, dtype: int64"
      ]
     },
     "metadata": {},
     "output_type": "display_data"
    },
    {
     "data": {
      "text/plain": [
       "industry\n",
       "Block Chain        25\n",
       "Finance Lending    22\n",
       "Gaming             22\n",
       "Hyper Local        20\n",
       "AI                 11\n",
       "Name: count, dtype: int64"
      ]
     },
     "metadata": {},
     "output_type": "display_data"
    },
    {
     "data": {
      "text/plain": [
       "location\n",
       "Hyderabad    23\n",
       "Chennai      20\n",
       "New Delhi    20\n",
       "Banglore     20\n",
       "Mumbai       17\n",
       "Name: count, dtype: int64"
      ]
     },
     "metadata": {},
     "output_type": "display_data"
    }
   ],
   "source": [
    "# to check for any inconsistency in data\n",
    "display(indus_client_df['client_id'].nunique()) # all ids are unique\n",
    "display(indus_client_df['company_size'].value_counts()) # no category is repeated with different name\n",
    "display(indus_client_df['industry'].value_counts())\n",
    "display(indus_client_df['location'].value_counts())"
   ]
  },
  {
   "cell_type": "markdown",
   "id": "53ab7674",
   "metadata": {},
   "source": [
    "## Financial information"
   ]
  },
  {
   "cell_type": "code",
   "execution_count": 8,
   "id": "c2167c78",
   "metadata": {},
   "outputs": [
    {
     "data": {
      "text/html": [
       "<div>\n",
       "<style scoped>\n",
       "    .dataframe tbody tr th:only-of-type {\n",
       "        vertical-align: middle;\n",
       "    }\n",
       "\n",
       "    .dataframe tbody tr th {\n",
       "        vertical-align: top;\n",
       "    }\n",
       "\n",
       "    .dataframe thead th {\n",
       "        text-align: right;\n",
       "    }\n",
       "</style>\n",
       "<table border=\"1\" class=\"dataframe\">\n",
       "  <thead>\n",
       "    <tr style=\"text-align: right;\">\n",
       "      <th></th>\n",
       "      <th>Unnamed: 0</th>\n",
       "      <th>start_date</th>\n",
       "      <th>end_date</th>\n",
       "      <th>inflation_rate</th>\n",
       "      <th>gdp_growth_rate</th>\n",
       "    </tr>\n",
       "  </thead>\n",
       "  <tbody>\n",
       "    <tr>\n",
       "      <th>11</th>\n",
       "      <td>11</td>\n",
       "      <td>2020-10-01</td>\n",
       "      <td>2020-12-31</td>\n",
       "      <td>3.10</td>\n",
       "      <td>2.70</td>\n",
       "    </tr>\n",
       "    <tr>\n",
       "      <th>19</th>\n",
       "      <td>19</td>\n",
       "      <td>2022-10-01</td>\n",
       "      <td>2022-12-31</td>\n",
       "      <td>4.40</td>\n",
       "      <td>1.05</td>\n",
       "    </tr>\n",
       "    <tr>\n",
       "      <th>15</th>\n",
       "      <td>15</td>\n",
       "      <td>2021-10-01</td>\n",
       "      <td>2021-12-31</td>\n",
       "      <td>7.32</td>\n",
       "      <td>1.73</td>\n",
       "    </tr>\n",
       "    <tr>\n",
       "      <th>2</th>\n",
       "      <td>2</td>\n",
       "      <td>2018-07-01</td>\n",
       "      <td>2018-09-30</td>\n",
       "      <td>1.56</td>\n",
       "      <td>1.82</td>\n",
       "    </tr>\n",
       "    <tr>\n",
       "      <th>5</th>\n",
       "      <td>5</td>\n",
       "      <td>2019-04-01</td>\n",
       "      <td>2019-06-30</td>\n",
       "      <td>3.84</td>\n",
       "      <td>3.48</td>\n",
       "    </tr>\n",
       "    <tr>\n",
       "      <th>10</th>\n",
       "      <td>10</td>\n",
       "      <td>2020-07-01</td>\n",
       "      <td>2020-09-30</td>\n",
       "      <td>1.43</td>\n",
       "      <td>2.40</td>\n",
       "    </tr>\n",
       "    <tr>\n",
       "      <th>14</th>\n",
       "      <td>14</td>\n",
       "      <td>2021-07-01</td>\n",
       "      <td>2021-09-30</td>\n",
       "      <td>7.19</td>\n",
       "      <td>1.04</td>\n",
       "    </tr>\n",
       "    <tr>\n",
       "      <th>4</th>\n",
       "      <td>4</td>\n",
       "      <td>2019-01-01</td>\n",
       "      <td>2019-03-31</td>\n",
       "      <td>6.91</td>\n",
       "      <td>3.44</td>\n",
       "    </tr>\n",
       "    <tr>\n",
       "      <th>17</th>\n",
       "      <td>17</td>\n",
       "      <td>2022-04-01</td>\n",
       "      <td>2022-06-30</td>\n",
       "      <td>6.80</td>\n",
       "      <td>3.49</td>\n",
       "    </tr>\n",
       "    <tr>\n",
       "      <th>16</th>\n",
       "      <td>16</td>\n",
       "      <td>2022-01-01</td>\n",
       "      <td>2022-03-31</td>\n",
       "      <td>6.76</td>\n",
       "      <td>2.72</td>\n",
       "    </tr>\n",
       "  </tbody>\n",
       "</table>\n",
       "</div>"
      ],
      "text/plain": [
       "    Unnamed: 0  start_date    end_date  inflation_rate  gdp_growth_rate\n",
       "11          11  2020-10-01  2020-12-31            3.10             2.70\n",
       "19          19  2022-10-01  2022-12-31            4.40             1.05\n",
       "15          15  2021-10-01  2021-12-31            7.32             1.73\n",
       "2            2  2018-07-01  2018-09-30            1.56             1.82\n",
       "5            5  2019-04-01  2019-06-30            3.84             3.48\n",
       "10          10  2020-07-01  2020-09-30            1.43             2.40\n",
       "14          14  2021-07-01  2021-09-30            7.19             1.04\n",
       "4            4  2019-01-01  2019-03-31            6.91             3.44\n",
       "17          17  2022-04-01  2022-06-30            6.80             3.49\n",
       "16          16  2022-01-01  2022-03-31            6.76             2.72"
      ]
     },
     "execution_count": 8,
     "metadata": {},
     "output_type": "execute_result"
    }
   ],
   "source": [
    "finance_df.sample(10)"
   ]
  },
  {
   "cell_type": "code",
   "execution_count": 9,
   "id": "750526d0",
   "metadata": {},
   "outputs": [
    {
     "data": {
      "text/plain": [
       "(21, 5)"
      ]
     },
     "execution_count": 9,
     "metadata": {},
     "output_type": "execute_result"
    }
   ],
   "source": [
    "finance_df.shape"
   ]
  },
  {
   "cell_type": "code",
   "execution_count": 10,
   "id": "77d3b644",
   "metadata": {},
   "outputs": [
    {
     "name": "stdout",
     "output_type": "stream",
     "text": [
      "<class 'pandas.core.frame.DataFrame'>\n",
      "RangeIndex: 21 entries, 0 to 20\n",
      "Data columns (total 5 columns):\n",
      " #   Column           Non-Null Count  Dtype  \n",
      "---  ------           --------------  -----  \n",
      " 0   Unnamed: 0       21 non-null     int64  \n",
      " 1   start_date       21 non-null     object \n",
      " 2   end_date         21 non-null     object \n",
      " 3   inflation_rate   21 non-null     float64\n",
      " 4   gdp_growth_rate  21 non-null     float64\n",
      "dtypes: float64(2), int64(1), object(2)\n",
      "memory usage: 968.0+ bytes\n"
     ]
    }
   ],
   "source": [
    "finance_df.info() # no null values"
   ]
  },
  {
   "cell_type": "code",
   "execution_count": 11,
   "id": "e39a838d",
   "metadata": {},
   "outputs": [],
   "source": [
    "# we need to delete unnamed column or rename it to row_id and change the datatype for date from object to datetime\n",
    "finance_df.rename(columns={'Unnamed: 0': 'row_id'}, inplace=True)\n",
    "finance_df['start_date'] = pd.to_datetime(finance_df['start_date'])\n",
    "finance_df['end_date'] = pd.to_datetime(finance_df['end_date'])"
   ]
  },
  {
   "cell_type": "markdown",
   "id": "6cab3a25",
   "metadata": {},
   "source": [
    "## Subscription information"
   ]
  },
  {
   "cell_type": "code",
   "execution_count": 12,
   "id": "6fa4a453",
   "metadata": {},
   "outputs": [
    {
     "data": {
      "text/html": [
       "<div>\n",
       "<style scoped>\n",
       "    .dataframe tbody tr th:only-of-type {\n",
       "        vertical-align: middle;\n",
       "    }\n",
       "\n",
       "    .dataframe tbody tr th {\n",
       "        vertical-align: top;\n",
       "    }\n",
       "\n",
       "    .dataframe thead th {\n",
       "        text-align: right;\n",
       "    }\n",
       "</style>\n",
       "<table border=\"1\" class=\"dataframe\">\n",
       "  <thead>\n",
       "    <tr style=\"text-align: right;\">\n",
       "      <th></th>\n",
       "      <th>client_id</th>\n",
       "      <th>subscription_type</th>\n",
       "      <th>start_date</th>\n",
       "      <th>end_date</th>\n",
       "      <th>renewed</th>\n",
       "    </tr>\n",
       "  </thead>\n",
       "  <tbody>\n",
       "    <tr>\n",
       "      <th>52</th>\n",
       "      <td>1629048404</td>\n",
       "      <td>Yearly</td>\n",
       "      <td>2021-02-23</td>\n",
       "      <td>2022-02-23</td>\n",
       "      <td>False</td>\n",
       "    </tr>\n",
       "    <tr>\n",
       "      <th>27</th>\n",
       "      <td>8155233099</td>\n",
       "      <td>Monthly</td>\n",
       "      <td>2020-06-03</td>\n",
       "      <td>2020-07-03</td>\n",
       "      <td>True</td>\n",
       "    </tr>\n",
       "    <tr>\n",
       "      <th>25</th>\n",
       "      <td>9752784850</td>\n",
       "      <td>Yearly</td>\n",
       "      <td>2021-09-15</td>\n",
       "      <td>2022-09-15</td>\n",
       "      <td>False</td>\n",
       "    </tr>\n",
       "    <tr>\n",
       "      <th>38</th>\n",
       "      <td>2490056820</td>\n",
       "      <td>Monthly</td>\n",
       "      <td>2020-04-04</td>\n",
       "      <td>2020-05-04</td>\n",
       "      <td>True</td>\n",
       "    </tr>\n",
       "    <tr>\n",
       "      <th>94</th>\n",
       "      <td>5481743788</td>\n",
       "      <td>Yearly</td>\n",
       "      <td>2020-04-03</td>\n",
       "      <td>2021-04-03</td>\n",
       "      <td>False</td>\n",
       "    </tr>\n",
       "    <tr>\n",
       "      <th>57</th>\n",
       "      <td>9031632460</td>\n",
       "      <td>Yearly</td>\n",
       "      <td>2019-07-06</td>\n",
       "      <td>2020-07-05</td>\n",
       "      <td>True</td>\n",
       "    </tr>\n",
       "    <tr>\n",
       "      <th>74</th>\n",
       "      <td>2315920532</td>\n",
       "      <td>Monthly</td>\n",
       "      <td>2019-04-01</td>\n",
       "      <td>2019-05-01</td>\n",
       "      <td>True</td>\n",
       "    </tr>\n",
       "    <tr>\n",
       "      <th>88</th>\n",
       "      <td>7925430606</td>\n",
       "      <td>Yearly</td>\n",
       "      <td>2022-08-29</td>\n",
       "      <td>2023-08-29</td>\n",
       "      <td>False</td>\n",
       "    </tr>\n",
       "    <tr>\n",
       "      <th>55</th>\n",
       "      <td>5983139564</td>\n",
       "      <td>Yearly</td>\n",
       "      <td>2020-03-29</td>\n",
       "      <td>2021-03-29</td>\n",
       "      <td>True</td>\n",
       "    </tr>\n",
       "    <tr>\n",
       "      <th>18</th>\n",
       "      <td>2096479553</td>\n",
       "      <td>Yearly</td>\n",
       "      <td>2020-01-25</td>\n",
       "      <td>2021-01-24</td>\n",
       "      <td>False</td>\n",
       "    </tr>\n",
       "  </tbody>\n",
       "</table>\n",
       "</div>"
      ],
      "text/plain": [
       "     client_id subscription_type  start_date    end_date  renewed\n",
       "52  1629048404            Yearly  2021-02-23  2022-02-23    False\n",
       "27  8155233099           Monthly  2020-06-03  2020-07-03     True\n",
       "25  9752784850            Yearly  2021-09-15  2022-09-15    False\n",
       "38  2490056820           Monthly  2020-04-04  2020-05-04     True\n",
       "94  5481743788            Yearly  2020-04-03  2021-04-03    False\n",
       "57  9031632460            Yearly  2019-07-06  2020-07-05     True\n",
       "74  2315920532           Monthly  2019-04-01  2019-05-01     True\n",
       "88  7925430606            Yearly  2022-08-29  2023-08-29    False\n",
       "55  5983139564            Yearly  2020-03-29  2021-03-29     True\n",
       "18  2096479553            Yearly  2020-01-25  2021-01-24    False"
      ]
     },
     "execution_count": 12,
     "metadata": {},
     "output_type": "execute_result"
    }
   ],
   "source": [
    "sub_df.sample(10)"
   ]
  },
  {
   "cell_type": "code",
   "execution_count": 13,
   "id": "adbed492",
   "metadata": {},
   "outputs": [
    {
     "data": {
      "text/plain": [
       "(100, 5)"
      ]
     },
     "execution_count": 13,
     "metadata": {},
     "output_type": "execute_result"
    }
   ],
   "source": [
    "sub_df.shape"
   ]
  },
  {
   "cell_type": "code",
   "execution_count": 14,
   "id": "2ca9c39d",
   "metadata": {},
   "outputs": [
    {
     "name": "stdout",
     "output_type": "stream",
     "text": [
      "<class 'pandas.core.frame.DataFrame'>\n",
      "RangeIndex: 100 entries, 0 to 99\n",
      "Data columns (total 5 columns):\n",
      " #   Column             Non-Null Count  Dtype \n",
      "---  ------             --------------  ----- \n",
      " 0   client_id          100 non-null    int64 \n",
      " 1   subscription_type  100 non-null    object\n",
      " 2   start_date         100 non-null    object\n",
      " 3   end_date           100 non-null    object\n",
      " 4   renewed            100 non-null    bool  \n",
      "dtypes: bool(1), int64(1), object(3)\n",
      "memory usage: 3.3+ KB\n"
     ]
    }
   ],
   "source": [
    "sub_df.info()"
   ]
  },
  {
   "cell_type": "code",
   "execution_count": 15,
   "id": "34270b11",
   "metadata": {},
   "outputs": [],
   "source": [
    "sub_df['start_date'] = pd.to_datetime(sub_df['start_date'])\n",
    "sub_df['end_date'] = pd.to_datetime(sub_df['end_date'])"
   ]
  },
  {
   "cell_type": "code",
   "execution_count": 16,
   "id": "2df67790",
   "metadata": {},
   "outputs": [
    {
     "data": {
      "text/plain": [
       "subscription_type\n",
       "Monthly    57\n",
       "Yearly     43\n",
       "Name: count, dtype: int64"
      ]
     },
     "execution_count": 16,
     "metadata": {},
     "output_type": "execute_result"
    }
   ],
   "source": [
    "sub_df['subscription_type'].value_counts()"
   ]
  },
  {
   "cell_type": "markdown",
   "id": "edfde541",
   "metadata": {},
   "source": [
    "## Payment information"
   ]
  },
  {
   "cell_type": "code",
   "execution_count": 17,
   "id": "abf113aa",
   "metadata": {},
   "outputs": [
    {
     "data": {
      "text/html": [
       "<div>\n",
       "<style scoped>\n",
       "    .dataframe tbody tr th:only-of-type {\n",
       "        vertical-align: middle;\n",
       "    }\n",
       "\n",
       "    .dataframe tbody tr th {\n",
       "        vertical-align: top;\n",
       "    }\n",
       "\n",
       "    .dataframe thead th {\n",
       "        text-align: right;\n",
       "    }\n",
       "</style>\n",
       "<table border=\"1\" class=\"dataframe\">\n",
       "  <thead>\n",
       "    <tr style=\"text-align: right;\">\n",
       "      <th></th>\n",
       "      <th>client_id</th>\n",
       "      <th>payment_date</th>\n",
       "      <th>amount_paid</th>\n",
       "      <th>payment_method</th>\n",
       "    </tr>\n",
       "  </thead>\n",
       "  <tbody>\n",
       "    <tr>\n",
       "      <th>89</th>\n",
       "      <td>5980553707</td>\n",
       "      <td>8/30/2021</td>\n",
       "      <td>312.9</td>\n",
       "      <td>Credit Card</td>\n",
       "    </tr>\n",
       "    <tr>\n",
       "      <th>28</th>\n",
       "      <td>4687291312</td>\n",
       "      <td>6/14/2019</td>\n",
       "      <td>184.2</td>\n",
       "      <td>Bank Transfer</td>\n",
       "    </tr>\n",
       "    <tr>\n",
       "      <th>22</th>\n",
       "      <td>9626357024</td>\n",
       "      <td>9/25/2022</td>\n",
       "      <td>275.5</td>\n",
       "      <td>Check</td>\n",
       "    </tr>\n",
       "    <tr>\n",
       "      <th>5</th>\n",
       "      <td>8719792472</td>\n",
       "      <td>2/10/2018</td>\n",
       "      <td>73.8</td>\n",
       "      <td>Credit Card</td>\n",
       "    </tr>\n",
       "    <tr>\n",
       "      <th>44</th>\n",
       "      <td>4309371709</td>\n",
       "      <td>5/24/2021</td>\n",
       "      <td>368.4</td>\n",
       "      <td>Check</td>\n",
       "    </tr>\n",
       "    <tr>\n",
       "      <th>50</th>\n",
       "      <td>7896208406</td>\n",
       "      <td>2/24/2022</td>\n",
       "      <td>291.0</td>\n",
       "      <td>Credit Card</td>\n",
       "    </tr>\n",
       "    <tr>\n",
       "      <th>2</th>\n",
       "      <td>4698004907</td>\n",
       "      <td>9/11/2021</td>\n",
       "      <td>435.1</td>\n",
       "      <td>Check</td>\n",
       "    </tr>\n",
       "    <tr>\n",
       "      <th>51</th>\n",
       "      <td>7925430606</td>\n",
       "      <td>8/29/2022</td>\n",
       "      <td>407.6</td>\n",
       "      <td>Bank Transfer</td>\n",
       "    </tr>\n",
       "    <tr>\n",
       "      <th>82</th>\n",
       "      <td>1298566280</td>\n",
       "      <td>9/1/2019</td>\n",
       "      <td>480.3</td>\n",
       "      <td>Credit Card</td>\n",
       "    </tr>\n",
       "    <tr>\n",
       "      <th>54</th>\n",
       "      <td>5481743788</td>\n",
       "      <td>4/3/2020</td>\n",
       "      <td>289.2</td>\n",
       "      <td>Credit Card</td>\n",
       "    </tr>\n",
       "  </tbody>\n",
       "</table>\n",
       "</div>"
      ],
      "text/plain": [
       "     client_id payment_date  amount_paid payment_method\n",
       "89  5980553707    8/30/2021        312.9    Credit Card\n",
       "28  4687291312    6/14/2019        184.2  Bank Transfer\n",
       "22  9626357024    9/25/2022        275.5          Check\n",
       "5   8719792472    2/10/2018         73.8    Credit Card\n",
       "44  4309371709    5/24/2021        368.4          Check\n",
       "50  7896208406    2/24/2022        291.0    Credit Card\n",
       "2   4698004907    9/11/2021        435.1          Check\n",
       "51  7925430606    8/29/2022        407.6  Bank Transfer\n",
       "82  1298566280     9/1/2019        480.3    Credit Card\n",
       "54  5481743788     4/3/2020        289.2    Credit Card"
      ]
     },
     "execution_count": 17,
     "metadata": {},
     "output_type": "execute_result"
    }
   ],
   "source": [
    "payments_df.sample(10)"
   ]
  },
  {
   "cell_type": "code",
   "execution_count": 18,
   "id": "ba5db5a2",
   "metadata": {},
   "outputs": [
    {
     "name": "stdout",
     "output_type": "stream",
     "text": [
      "<class 'pandas.core.frame.DataFrame'>\n",
      "RangeIndex: 100 entries, 0 to 99\n",
      "Data columns (total 4 columns):\n",
      " #   Column          Non-Null Count  Dtype  \n",
      "---  ------          --------------  -----  \n",
      " 0   client_id       100 non-null    int64  \n",
      " 1   payment_date    100 non-null    object \n",
      " 2   amount_paid     100 non-null    float64\n",
      " 3   payment_method  100 non-null    object \n",
      "dtypes: float64(1), int64(1), object(2)\n",
      "memory usage: 3.2+ KB\n"
     ]
    }
   ],
   "source": [
    "payments_df.info()"
   ]
  },
  {
   "cell_type": "code",
   "execution_count": 19,
   "id": "de6f45db",
   "metadata": {},
   "outputs": [
    {
     "data": {
      "text/plain": [
       "payment_method\n",
       "Bank Transfer    38\n",
       "Check            31\n",
       "Credit Card      31\n",
       "Name: count, dtype: int64"
      ]
     },
     "execution_count": 19,
     "metadata": {},
     "output_type": "execute_result"
    }
   ],
   "source": [
    "payments_df['payment_method'].value_counts()"
   ]
  },
  {
   "cell_type": "code",
   "execution_count": 20,
   "id": "939f86ed",
   "metadata": {},
   "outputs": [],
   "source": [
    "payments_df['payment_date'] = pd.to_datetime(payments_df['payment_date'], errors='coerce') # changed datatype to date"
   ]
  },
  {
   "cell_type": "markdown",
   "id": "5e332247",
   "metadata": {},
   "source": [
    "## Assignment questions"
   ]
  },
  {
   "cell_type": "markdown",
   "id": "0d1dfaca",
   "metadata": {},
   "source": [
    "1.\tHow many finance lending and blockchain clients does the organization have?  \n",
    " \n"
   ]
  },
  {
   "cell_type": "code",
   "execution_count": 21,
   "id": "eedf8a77",
   "metadata": {},
   "outputs": [
    {
     "data": {
      "text/plain": [
       "industry\n",
       "Finance Lending    22\n",
       "Block Chain        25\n",
       "Name: client_id, dtype: int64"
      ]
     },
     "execution_count": 21,
     "metadata": {},
     "output_type": "execute_result"
    }
   ],
   "source": [
    "industry_counts = indus_client_df.groupby('industry')['client_id'].count()\n",
    "indus_counts_res = industry_counts.loc[['Finance Lending', 'Block Chain']]\n",
    "indus_counts_res\n"
   ]
  },
  {
   "cell_type": "code",
   "execution_count": 22,
   "id": "71dee0a7",
   "metadata": {},
   "outputs": [
    {
     "data": {
      "image/png": "[encoded data removed]",
      "text/plain": [
       "<Figure size 800x400 with 1 Axes>"
      ]
     },
     "metadata": {},
     "output_type": "display_data"
    }
   ],
   "source": [
    "plt.figure(figsize=(8,4))\n",
    "bars = plt.bar(industry_counts.index, industry_counts.values, color='lightcoral')\n",
    "\n",
    "plt.title('Number of Clients by Industry')\n",
    "plt.xlabel('Industry')\n",
    "plt.ylabel('Number of Clients')\n",
    "plt.xticks(rotation=45)\n",
    "plt.grid(axis='y', linestyle='--', alpha=0.6)\n",
    "plt.tight_layout()\n",
    "for bar in bars:\n",
    "    height = bar.get_height()\n",
    "    plt.text(bar.get_x() + bar.get_width()/2, height + 0.5, \n",
    "             f'{int(height)}', ha='center', va='bottom', fontsize=9)\n",
    "\n",
    "plt.show()"
   ]
  },
  {
   "cell_type": "markdown",
   "id": "00e41dad",
   "metadata": {},
   "source": [
    "2.\tWhich industry in the organization has the highest renewal rate?"
   ]
  },
  {
   "cell_type": "code",
   "execution_count": 23,
   "id": "e3192572",
   "metadata": {},
   "outputs": [],
   "source": [
    "# for this we need to join two tables - subscriptions and industry clients\n",
    "industry_sub = indus_client_df.merge(sub_df,on='client_id')\n",
    "industry_renewals = industry_sub.groupby(['industry','renewed'])['client_id'].count().unstack(fill_value=0)"
   ]
  },
  {
   "cell_type": "code",
   "execution_count": 24,
   "id": "912bb57f",
   "metadata": {},
   "outputs": [
    {
     "name": "stdout",
     "output_type": "stream",
     "text": [
      "Highest renewal rate is in 'Gaming' with a rate of 0.73\n"
     ]
    }
   ],
   "source": [
    "industry_renewals['renewal_rate'] = industry_renewals[True] / (industry_renewals[True] + industry_renewals[False])\n",
    "highest_renewal_industry = industry_renewals['renewal_rate'].idxmax()\n",
    "highest_renewal_rate = industry_renewals['renewal_rate'].max()\n",
    "\n",
    "print(f\"Highest renewal rate is in '{highest_renewal_industry}' with a rate of {highest_renewal_rate:.2f}\")\n"
   ]
  },
  {
   "cell_type": "code",
   "execution_count": null,
   "id": "6b0bd370",
   "metadata": {},
   "outputs": [
    {
     "data": {
      "image/png": "[encoded data removed]",
      "text/plain": [
       "<Figure size 800x400 with 1 Axes>"
      ]
     },
     "metadata": {},
     "output_type": "display_data"
    }
   ],
   "source": [
    "\n",
    "plt.figure(figsize=(8,4))\n",
    "bars = plt.bar(industry_renewals.index, industry_renewals['renewal_rate'], color='skyblue')\n",
    "\n",
    "plt.title('Renewal Rates by Industry')\n",
    "plt.xlabel('Industry')\n",
    "plt.ylabel('Renewal Rate')\n",
    "plt.xticks(rotation=45)\n",
    "plt.ylim(0, 1) \n",
    "plt.grid(axis='y', linestyle='--', alpha=0.6)\n",
    "plt.tight_layout()\n",
    "\n",
    "for bar in bars:\n",
    "    height = bar.get_height()\n",
    "    plt.text(bar.get_x() + bar.get_width()/2, height + 0.01, \n",
    "             f'{height:.2f}', ha='center', va='bottom', fontsize=9)\n",
    "\n",
    "plt.show()\n"
   ]
  },
  {
   "cell_type": "markdown",
   "id": "efce7999",
   "metadata": {},
   "source": [
    "3.\tWhat was the average inflation rate when their subscriptions were renewed?"
   ]
  },
  {
   "cell_type": "code",
   "execution_count": null,
   "id": "d7f02fd9",
   "metadata": {},
   "outputs": [
    {
     "name": "stdout",
     "output_type": "stream",
     "text": [
      "Average Inflation Rate for Renewed Subscriptions: 4.396283185840705\n",
      "[0.76, 7.32, 6.76, 6.8, 5.6, 4.4, 6.76, 6.8, 5.6, 4.4, 5.49, 3.84, 7.71, 2.71, 4.4, 4.69, 4.4, 5.49, 2.78, 6.91, 3.84, 7.71, 2.71, 7.71, 7.19, 4.4, 5.49, 7.19, 7.32, 6.76, 6.8, 5.6, 1.17, 7.71, 2.71, 1.17, 1.56, 2.78, 6.91, 3.84, 1.17, 4.69, 1.43, 3.1, 2.57, 0.76, 4.69, 6.76, 6.8, 5.6, 4.4, 5.49, 4.69, 1.43, 3.1, 2.57, 0.76, 6.76, 7.71, 3.1, 0.76, 4.4, 4.69, 1.43, 3.1, 2.57, 7.71, 2.71, 4.4, 4.69, 1.43, 4.4, 2.57, 0.76, 7.19, 7.32, 6.76, 1.17, 5.77, 1.17, 1.56, 2.78, 6.91, 2.78, 6.91, 3.84, 7.71, 2.71, 3.84, 3.84, 3.1, 2.57, 0.76, 7.19, 7.32, 5.6, 4.4, 5.49, 1.43, 7.71, 2.71, 4.4, 4.69, 1.43, 7.71, 2.71, 4.4, 4.69, 1.43, 4.4, 3.1, 7.32, 2.57]\n"
     ]
    }
   ],
   "source": [
    "renewed_subscriptions = sub_df[sub_df['renewed'] == True]\n",
    "inflation_rates = []\n",
    "for _, row in renewed_subscriptions.iterrows():\n",
    "    sub_start = row['start_date']\n",
    "    sub_end = row['end_date']\n",
    "    subscription_type = row['subscription_type']\n",
    "\n",
    "    # if it is a yearly plan then it cannot directly fall into quarter range\n",
    "    if subscription_type == 'Yearly':\n",
    "        for _, quarter in finance_df.iterrows():\n",
    "            # to check if the subscription period overlaps with the quarter's period\n",
    "            if (sub_start <= quarter['end_date']) and (sub_end >= quarter['start_date']):\n",
    "                inflation_rates.append(quarter['inflation_rate'])\n",
    "    \n",
    "    # If it's a monthly plan, directly map to the appropriate quarter\n",
    "    elif subscription_type == 'Monthly':\n",
    "        for _, quarter in finance_df.iterrows():\n",
    "            if sub_start >= quarter['start_date'] and sub_end <= quarter['end_date']:\n",
    "                inflation_rates.append(quarter['inflation_rate'])\n",
    "\n",
    "# average inflation rate for the renewed subscriptions\n",
    "if inflation_rates:\n",
    "    average_inflation_rate = sum(inflation_rates) / len(inflation_rates)\n",
    "    print(\"Average Inflation Rate for Renewed Subscriptions:\", average_inflation_rate)\n",
    "else:\n",
    "    print(\"No valid inflation rates found for renewed subscriptions.\")\n",
    "print(inflation_rates)"
   ]
  },
  {
   "cell_type": "code",
   "execution_count": 27,
   "id": "ddf0c1e7",
   "metadata": {},
   "outputs": [
    {
     "data": {
      "image/png": "[encoded data removed]",
      "text/plain": [
       "<Figure size 800x500 with 1 Axes>"
      ]
     },
     "metadata": {},
     "output_type": "display_data"
    }
   ],
   "source": [
    "plt.figure(figsize=(8,5))\n",
    "sns.histplot(inflation_rates, kde=True, color='skyblue', bins=10)\n",
    "plt.title(\"Distribution of Inflation Rates for Renewed Subscriptions\")\n",
    "plt.xlabel(\"Inflation Rate (%)\")\n",
    "plt.ylabel(\"Frequency\")\n",
    "plt.show()"
   ]
  },
  {
   "cell_type": "code",
   "execution_count": 28,
   "id": "d1c03655",
   "metadata": {},
   "outputs": [
    {
     "data": {
      "image/png": "[encoded data removed]",
      "text/plain": [
       "<Figure size 600x400 with 1 Axes>"
      ]
     },
     "metadata": {},
     "output_type": "display_data"
    }
   ],
   "source": [
    "plt.figure(figsize=(6,4))\n",
    "sns.boxplot(y=inflation_rates, color='lightgreen')\n",
    "plt.title(\"Boxplot of Inflation Rates for Renewed Subscriptions\")\n",
    "plt.ylabel(\"Inflation Rate (%)\")\n",
    "plt.show()\n"
   ]
  },
  {
   "cell_type": "markdown",
   "id": "a8f8b383",
   "metadata": {},
   "source": [
    "4.\tWhat is the median amount paid each year for all payment methods? "
   ]
  },
  {
   "cell_type": "code",
   "execution_count": 29,
   "id": "d0e1a856",
   "metadata": {},
   "outputs": [
    {
     "data": {
      "text/html": [
       "<div>\n",
       "<style scoped>\n",
       "    .dataframe tbody tr th:only-of-type {\n",
       "        vertical-align: middle;\n",
       "    }\n",
       "\n",
       "    .dataframe tbody tr th {\n",
       "        vertical-align: top;\n",
       "    }\n",
       "\n",
       "    .dataframe thead th {\n",
       "        text-align: right;\n",
       "    }\n",
       "</style>\n",
       "<table border=\"1\" class=\"dataframe\">\n",
       "  <thead>\n",
       "    <tr style=\"text-align: right;\">\n",
       "      <th></th>\n",
       "      <th>year</th>\n",
       "      <th>payment_method</th>\n",
       "      <th>amount_paid</th>\n",
       "    </tr>\n",
       "  </thead>\n",
       "  <tbody>\n",
       "    <tr>\n",
       "      <th>0</th>\n",
       "      <td>2018</td>\n",
       "      <td>Bank Transfer</td>\n",
       "      <td>281.65</td>\n",
       "    </tr>\n",
       "    <tr>\n",
       "      <th>1</th>\n",
       "      <td>2018</td>\n",
       "      <td>Check</td>\n",
       "      <td>216.60</td>\n",
       "    </tr>\n",
       "    <tr>\n",
       "      <th>2</th>\n",
       "      <td>2018</td>\n",
       "      <td>Credit Card</td>\n",
       "      <td>229.15</td>\n",
       "    </tr>\n",
       "    <tr>\n",
       "      <th>3</th>\n",
       "      <td>2019</td>\n",
       "      <td>Bank Transfer</td>\n",
       "      <td>184.20</td>\n",
       "    </tr>\n",
       "    <tr>\n",
       "      <th>4</th>\n",
       "      <td>2019</td>\n",
       "      <td>Check</td>\n",
       "      <td>410.20</td>\n",
       "    </tr>\n",
       "    <tr>\n",
       "      <th>5</th>\n",
       "      <td>2019</td>\n",
       "      <td>Credit Card</td>\n",
       "      <td>401.90</td>\n",
       "    </tr>\n",
       "    <tr>\n",
       "      <th>6</th>\n",
       "      <td>2020</td>\n",
       "      <td>Bank Transfer</td>\n",
       "      <td>225.10</td>\n",
       "    </tr>\n",
       "    <tr>\n",
       "      <th>7</th>\n",
       "      <td>2020</td>\n",
       "      <td>Check</td>\n",
       "      <td>413.10</td>\n",
       "    </tr>\n",
       "    <tr>\n",
       "      <th>8</th>\n",
       "      <td>2020</td>\n",
       "      <td>Credit Card</td>\n",
       "      <td>285.25</td>\n",
       "    </tr>\n",
       "    <tr>\n",
       "      <th>9</th>\n",
       "      <td>2021</td>\n",
       "      <td>Bank Transfer</td>\n",
       "      <td>255.30</td>\n",
       "    </tr>\n",
       "    <tr>\n",
       "      <th>10</th>\n",
       "      <td>2021</td>\n",
       "      <td>Check</td>\n",
       "      <td>435.10</td>\n",
       "    </tr>\n",
       "    <tr>\n",
       "      <th>11</th>\n",
       "      <td>2021</td>\n",
       "      <td>Credit Card</td>\n",
       "      <td>208.70</td>\n",
       "    </tr>\n",
       "    <tr>\n",
       "      <th>12</th>\n",
       "      <td>2022</td>\n",
       "      <td>Bank Transfer</td>\n",
       "      <td>196.50</td>\n",
       "    </tr>\n",
       "    <tr>\n",
       "      <th>13</th>\n",
       "      <td>2022</td>\n",
       "      <td>Check</td>\n",
       "      <td>275.50</td>\n",
       "    </tr>\n",
       "    <tr>\n",
       "      <th>14</th>\n",
       "      <td>2022</td>\n",
       "      <td>Credit Card</td>\n",
       "      <td>326.20</td>\n",
       "    </tr>\n",
       "  </tbody>\n",
       "</table>\n",
       "</div>"
      ],
      "text/plain": [
       "    year payment_method  amount_paid\n",
       "0   2018  Bank Transfer       281.65\n",
       "1   2018          Check       216.60\n",
       "2   2018    Credit Card       229.15\n",
       "3   2019  Bank Transfer       184.20\n",
       "4   2019          Check       410.20\n",
       "5   2019    Credit Card       401.90\n",
       "6   2020  Bank Transfer       225.10\n",
       "7   2020          Check       413.10\n",
       "8   2020    Credit Card       285.25\n",
       "9   2021  Bank Transfer       255.30\n",
       "10  2021          Check       435.10\n",
       "11  2021    Credit Card       208.70\n",
       "12  2022  Bank Transfer       196.50\n",
       "13  2022          Check       275.50\n",
       "14  2022    Credit Card       326.20"
      ]
     },
     "metadata": {},
     "output_type": "display_data"
    }
   ],
   "source": [
    "payments_df['year'] = payments_df['payment_date'].dt.year # extract year\n",
    "median_amount = payments_df.groupby(['year', 'payment_method'])['amount_paid'].median().reset_index() # group by year and payment method\n",
    "\n",
    "display(median_amount)"
   ]
  },
  {
   "cell_type": "code",
   "execution_count": 30,
   "id": "3bf3ae16",
   "metadata": {},
   "outputs": [
    {
     "data": {
      "image/png": "[encoded data removed]",
      "text/plain": [
       "<Figure size 800x400 with 1 Axes>"
      ]
     },
     "metadata": {},
     "output_type": "display_data"
    }
   ],
   "source": [
    "plt.figure(figsize=(8, 4))\n",
    "sns.barplot(data=median_amount, x='year', y='amount_paid', hue='payment_method')\n",
    "plt.title('Median Amount Paid Each Year by Payment Method')\n",
    "plt.xlabel('Year')\n",
    "plt.ylabel('Median Amount Paid')\n",
    "plt.legend(title='Payment Method')\n",
    "plt.tight_layout()\n",
    "plt.show()"
   ]
  },
  {
   "cell_type": "markdown",
   "id": "710084b4",
   "metadata": {},
   "source": [
    "## Writing results to file"
   ]
  },
  {
   "cell_type": "code",
   "execution_count": 31,
   "id": "e343f48b",
   "metadata": {},
   "outputs": [],
   "source": [
    "with open('data_analysis_results.txt', 'w') as f:\n",
    "    \n",
    "    # client counts for Finance Lending and Block Chain--  question:1 \n",
    "    f.write(\"Number of Clients in 'Finance Lending' and 'Block Chain':\\n\")\n",
    "    for industry, count in indus_counts_res.items():\n",
    "        f.write(f\"{industry}: {count}\\n\")\n",
    "    f.write(\"\\n\")\n",
    "\n",
    "    # question:2\n",
    "    f.write(f\"Highest renewal rate is in '{highest_renewal_industry}' with a rate of {highest_renewal_rate:.2f}\")\n",
    "    f.write(\"\\n\")\n",
    "    #Question:3\n",
    "\n",
    "    f.write(\"\\nAverage Inflation Rate for Renewed Subscriptions: \")\n",
    "    if average_inflation_rate is not None:\n",
    "        f.write(f\"{average_inflation_rate:.2f}\")\n",
    "    else:\n",
    "        f.write(\"No valid inflation rates found.\")\n",
    "\n",
    "    f.write(\"\\n\")\n",
    "    #Question:4\n",
    "    f.write(\"\\nMedian Amount Paid Each Year by Payment Method:\\n\")\n",
    "    for _, row in median_amount.iterrows():\n",
    "        f.write(f\"Year: {row['year']}, Payment Method: {row['payment_method']}, Median Amount Paid: {row['amount_paid']:.2f}\\n\")\n",
    "\n",
    "    "
   ]
  }
 ],
 "metadata": {
  "kernelspec": {
   "display_name": "Python 3",
   "language": "python",
   "name": "python3"
  },
  "language_info": {
   "codemirror_mode": {
    "name": "ipython",
    "version": 3
   },
   "file_extension": ".py",
   "mimetype": "text/x-python",
   "name": "python",
   "nbconvert_exporter": "python",
   "pygments_lexer": "ipython3",
   "version": "3.10.9"
  }
 },
 "nbformat": 4,
 "nbformat_minor": 5
}
